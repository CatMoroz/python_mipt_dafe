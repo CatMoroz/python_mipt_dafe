{
 "cells": [
  {
   "cell_type": "markdown",
   "metadata": {},
   "source": [
    "# Функции: избранные темы"
   ]
  },
  {
   "cell_type": "markdown",
   "id": "b0b60028",
   "metadata": {},
   "source": [
    "## Вступление: контекстные менеджеры\n",
    "\n",
    "В Python по умолчанию задана некоторая точность вычисления чисел с плавающей точкой, которая, что логично, может отличаться от требуемой для решения конкретной задачи точности. Для пример, будет рассматривать точность вычислений в библиотеке **decimal**.\n",
    "\n",
    "Предположим, нас устраивает точность вычислений по умолчанию в этой библиотеке, но для некоторых расчетов мы бы хотели использовать повышенную или пониженную точность и только для них. Как нам быть? Тут-то нам на помощь и придут контекстные менеджеры.\n",
    "\n",
    "В этом примере мы поговорим о контекстных менеджерах и напишем свой менеджер для установки точности вычислений, которые будет работать примерно так:\n",
    "\n",
    "```python\n",
    "with set_precision(5):\n",
    "    ...\n",
    "```"
   ]
  },
  {
   "cell_type": "code",
   "execution_count": 2,
   "id": "2ee4bd58",
   "metadata": {},
   "outputs": [],
   "source": [
    "from decimal import Decimal, getcontext\n",
    "from contextlib import contextmanager\n",
    "from typing import Generator\n",
    "\n",
    "\n",
    "@contextmanager\n",
    "def set_precission(precission: int) -> Generator[None, None, None]:\n",
    "    precission = int(precission)\n",
    "    \n",
    "    if precission < 0:\n",
    "        raise ValueError\n",
    "    \n",
    "    #Сохранение контекста\n",
    "    precission_old = getcontext().prec\n",
    "    getcontext().prec = precission\n",
    "\n",
    "    #Возвращение управления\n",
    "    try:\n",
    "        yield\n",
    "    \n",
    "    #Восстановление контекста\n",
    "    finally:\n",
    "        getcontext().prec = precission_old\n"
   ]
  },
  {
   "cell_type": "code",
   "execution_count": 3,
   "metadata": {},
   "outputs": [
    {
     "name": "stdout",
     "output_type": "stream",
     "text": [
      "1.158671586715867219745115392\n",
      "1.1587\n"
     ]
    }
   ],
   "source": [
    "num1, num2 = Decimal(3.14), Decimal(2.71)\n",
    "print(num1/num2)\n",
    "\n",
    "with set_precission(5):\n",
    "    print(num1/num2)"
   ]
  },
  {
   "cell_type": "markdown",
   "id": "47c5cd4e",
   "metadata": {},
   "source": [
    "## Разминка: геометрическая прогрессия\n",
    "\n",
    "Напишите бесконечный генератор геометрической прогрессии. В качестве параметров генератор должен принимать:  \n",
    "- первый член прогрессии\n",
    "- шаг прогрессии"
   ]
  },
  {
   "cell_type": "code",
   "execution_count": 4,
   "id": "1322283c",
   "metadata": {},
   "outputs": [],
   "source": [
    "def generator_geometry_progression(start: float = 1, step: float = 1) -> Generator[float, None, None]:\n",
    "    current_member, step = int(start), int(step)\n",
    "\n",
    "    while True:\n",
    "        yield current_member\n",
    "        current_member *= step"
   ]
  },
  {
   "cell_type": "code",
   "execution_count": 5,
   "metadata": {},
   "outputs": [
    {
     "name": "stdout",
     "output_type": "stream",
     "text": [
      "1\n",
      "2\n",
      "4\n",
      "8\n",
      "16\n"
     ]
    }
   ],
   "source": [
    "generator = generator_geometry_progression(step = 2)\n",
    "\n",
    "for i in range(5):\n",
    "    print(next(generator))"
   ]
  },
  {
   "cell_type": "markdown",
   "id": "1b317e5a",
   "metadata": {},
   "source": [
    "## Задание 1: float_range\n",
    "\n",
    "Необходимо создать аналог range(), который генерирует арифметическую прогрессию. Ниже приведены примеры использования:\n",
    "\n",
    "*Пример 1*:\n",
    "\n",
    "```python\n",
    "for i in float_range(stop=5):\n",
    "    print(i)\n",
    "```\n",
    "\n",
    "*Вывод*:\n",
    "```console\n",
    "0\n",
    "1\n",
    "2\n",
    "3\n",
    "4\n",
    "```\n",
    "___\n",
    "*Пример 2*:\n",
    "\n",
    "```python\n",
    "for i in float_range(stop=1, step=0.5):\n",
    "    print(i)\n",
    "```\n",
    "\n",
    "*Вывод*:\n",
    "```console\n",
    "0\n",
    "0.5\n",
    "```\n",
    "___\n",
    "*Пример 3*:\n",
    "\n",
    "```python\n",
    "for i in float_range(start=1, stop=-1, step=-0.5):\n",
    "    print(i)\n",
    "```\n",
    "\n",
    "*Вывод*:\n",
    "```console\n",
    "1\n",
    "0.5\n",
    "0\n",
    "-0.5\n",
    "```"
   ]
  },
  {
   "cell_type": "code",
   "execution_count": 6,
   "id": "c118dd7f",
   "metadata": {},
   "outputs": [],
   "source": [
    "def float_range(\n",
    "        stop: float, \n",
    "        start: float = 0, \n",
    "        step: float = 1\n",
    "        ) -> Generator[float, None, None]:\n",
    "        start, stop, step = float(start), float(stop), float(step)\n",
    "        current_number = float(start)\n",
    "        \n",
    "        if step == 0:\n",
    "                raise ValueError(\"Step doesn't can be 0\")\n",
    "        \n",
    "        while (current_number < stop) == (step > 0):\n",
    "                yield current_number\n",
    "                current_number += step"
   ]
  },
  {
   "cell_type": "code",
   "execution_count": 7,
   "metadata": {},
   "outputs": [
    {
     "name": "stdout",
     "output_type": "stream",
     "text": [
      "0.0\n",
      "0.5\n",
      "1.0\n",
      "1.5\n",
      "2.0\n",
      "2.5\n",
      "3.0\n",
      "3.5\n",
      "4.0\n",
      "4.5\n",
      "0.0\n",
      "1.0\n",
      "2.0\n",
      "3.0\n",
      "4.0\n"
     ]
    }
   ],
   "source": [
    "for i in float_range(start = 0, stop = 5, step = 0.5):\n",
    "    print(i)\n",
    "for i in float_range(5):\n",
    "    print(i)"
   ]
  },
  {
   "cell_type": "markdown",
   "id": "0e50efe0",
   "metadata": {},
   "source": [
    "## Задание 2: свой map"
   ]
  },
  {
   "cell_type": "markdown",
   "id": "90231b0d",
   "metadata": {},
   "source": [
    "### Часть 1: копируем map\n",
    "\n",
    "Реализуйте аналог функции map, полностью копирующий ее поведение. Саму map использовать нельзя."
   ]
  },
  {
   "cell_type": "code",
   "execution_count": 20,
   "id": "121c0d82",
   "metadata": {},
   "outputs": [],
   "source": [
    "from typing import Any, Callable\n",
    "\n",
    "\n",
    "def my_map(\n",
    "    func: Callable, \n",
    "    *args\n",
    "    ) -> Generator[Any, None, None]:\n",
    "    for tuple in zip(*args):\n",
    "        yield func(*tuple)\n",
    "        "
   ]
  },
  {
   "cell_type": "code",
   "execution_count": 19,
   "metadata": {},
   "outputs": [
    {
     "name": "stdout",
     "output_type": "stream",
     "text": [
      "1a\n",
      "2a\n",
      "3a\n"
     ]
    }
   ],
   "source": [
    "for i in my_map(str, [1, 2, 3]):\n",
    "    print(i+'a')"
   ]
  },
  {
   "cell_type": "code",
   "execution_count": null,
   "metadata": {},
   "outputs": [],
   "source": []
  },
  {
   "cell_type": "markdown",
   "id": "577e35fc",
   "metadata": {},
   "source": [
    "### Часть 2: дополняем map\n",
    "\n",
    "Добавьте возможность управлять поведением вашего map'a: сделайте так, чтобы map имела возможность не только обрезать последовательности, но и дополнять короткие последовательности до динных. \n",
    "\n",
    "Совет: функция **zip_longest** из библиотеки **itertools** может оказаться полезной."
   ]
  },
  {
   "cell_type": "code",
   "execution_count": 22,
   "id": "0f930faa",
   "metadata": {},
   "outputs": [],
   "source": [
    "from enum import Enum\n",
    "from itertools import zip_longest\n",
    "\n",
    "\n",
    "class MapTypes(Enum):\n",
    "    SHORTEST = 'short'\n",
    "    LONGEST = 'long'\n"
   ]
  },
  {
   "cell_type": "code",
   "execution_count": 35,
   "id": "49b53ae5",
   "metadata": {},
   "outputs": [],
   "source": [
    "def my_map(\n",
    "    func: Callable,\n",
    "    *args,\n",
    "    map_cutmode: MapTypes = MapTypes.SHORTEST,\n",
    "    fillvalue: Any = None\n",
    "    ) -> Generator[Any, None, None]:\n",
    "    if map_cutmode == MapTypes.SHORTEST:\n",
    "        for tuple in zip(*args):\n",
    "            yield func(*tuple)\n",
    "    \n",
    "    else:\n",
    "        for tuple in zip_longest(*args, fillvalue=fillvalue):\n",
    "            yield func(*tuple)"
   ]
  },
  {
   "cell_type": "code",
   "execution_count": 83,
   "metadata": {},
   "outputs": [
    {
     "name": "stdout",
     "output_type": "stream",
     "text": [
      "2\n",
      "4\n",
      "4\n"
     ]
    }
   ],
   "source": [
    "for i in my_map(lambda x, y: x + y, [1, 2, 3], [1, 2], map_cutmode = MapTypes.LONGEST, fillvalue = 1):\n",
    "    print(i)\n",
    "for i in my_map(str, [1, 2, 3]):\n",
    "    print(i+'a')"
   ]
  },
  {
   "cell_type": "markdown",
   "id": "1ef76164",
   "metadata": {},
   "source": [
    "## Задание 3: Спиннер"
   ]
  },
  {
   "cell_type": "markdown",
   "id": "a79e62a0",
   "metadata": {},
   "source": [
    "### Часть 1: генератор\n",
    "\n",
    "Напишите функцию, которая на вход получает коллекцию и возвращает генератор, последовательно возвращающий элементы коллекции, а после возврата последнего элемента коллекции очередной вызов генератора приведет к зацикливанию.\n",
    "\n",
    "\n",
    "*Пример*:\n",
    "\n",
    "```python\n",
    "generator = generate_circle('abc')\n",
    "\n",
    "print(next(generator))\n",
    "print(next(generator))\n",
    "print(next(generator))\n",
    "print(next(generator))\n",
    "print(next(generator))\n",
    "```\n",
    "*Вывод*:\n",
    "```console\n",
    "a\n",
    "b\n",
    "c\n",
    "a\n",
    "b\n",
    "```"
   ]
  },
  {
   "cell_type": "code",
   "execution_count": 76,
   "id": "5b1d7d33",
   "metadata": {},
   "outputs": [],
   "source": [
    "from typing import Iterable\n",
    "\n",
    "\n",
    "def generate_circle(\n",
    "        iter: Iterable\n",
    ") -> Generator[Any, None, None]:\n",
    "    if not isinstance(iter, Iterable):\n",
    "        raise ValueError('A non-iterable object was passed')\n",
    "    while True:\n",
    "        for obj in iter:\n",
    "            yield obj"
   ]
  },
  {
   "cell_type": "code",
   "execution_count": 80,
   "metadata": {},
   "outputs": [
    {
     "name": "stdout",
     "output_type": "stream",
     "text": [
      "a\n",
      "b\n",
      "c\n",
      "a\n",
      "b\n"
     ]
    }
   ],
   "source": [
    "generator = generate_circle('abc')\n",
    "for _ in range(5):\n",
    "    print(next(generator))"
   ]
  },
  {
   "cell_type": "markdown",
   "id": "7eff66b3",
   "metadata": {},
   "source": [
    "### Часть 2: Колесо Сансары\n",
    "\n",
    "Используя генератор из предыдущего раздела, реализуйте функцию, которая отображает на экране спиннер для индикации загрузки.\n",
    "\n",
    "Отрисовка спиннера печатает на экран надпись: Thinking: \\<symbol\\>, где вместо \\<symbol\\> последовательно появляются знаки: \\, |, /, -, что создаёт эффект вращения.\n",
    "\n",
    "Вход функции: \n",
    "- time_limit - время (в секундах), в течение которого должна производиться отрисовка спиннера;\n",
    "- pause - время (в секундах) задержки между сменой символов спиннера;\n",
    "\n",
    "Интересная статья на тему индикаторов: https://dtf.ru/flood/174240-progress-bar-ili-spinner-chto-i-kogda-ispolzovat?ysclid=lorrg51syv550654720"
   ]
  },
  {
   "cell_type": "code",
   "execution_count": 81,
   "id": "eb84de3b",
   "metadata": {},
   "outputs": [],
   "source": [
    "import time\n",
    "\n",
    "def circle_of_sansara(\n",
    "        time_limit: float,\n",
    "        pause: float\n",
    ") -> None:\n",
    "    time_limit = float(time_limit)\n",
    "    pause = float(pause)\n",
    "\n",
    "    if pause <= 0:\n",
    "        raise ValueError('Pause must be positive')\n",
    "    \n",
    "    generator = generate_circle([\"|\", \"/\", \"—\", \"\\\\\"])\n",
    "    timer = 0\n",
    "    now_time = time.time()\n",
    "    while True:\n",
    "        print(f'Thinking <{next(generator)}>', end = '\\r')\n",
    "        if timer + pause >= time_limit:\n",
    "            time.sleep(time_limit - timer)\n",
    "            return\n",
    "        else:\n",
    "            time.sleep(pause)\n",
    "            timer = time.time() - now_time\n"
   ]
  },
  {
   "cell_type": "code",
   "execution_count": 82,
   "metadata": {},
   "outputs": [
    {
     "name": "stdout",
     "output_type": "stream",
     "text": [
      "Thinking <\\>\r"
     ]
    }
   ],
   "source": [
    "circle_of_sansara(4, 0.05)"
   ]
  }
 ],
 "metadata": {
  "kernelspec": {
   "display_name": "Python 3 (ipykernel)",
   "language": "python",
   "name": "python3"
  },
  "language_info": {
   "codemirror_mode": {
    "name": "ipython",
    "version": 3
   },
   "file_extension": ".py",
   "mimetype": "text/x-python",
   "name": "python",
   "nbconvert_exporter": "python",
   "pygments_lexer": "ipython3",
   "version": "3.11.4"
  },
  "toc": {
   "base_numbering": 1,
   "nav_menu": {},
   "number_sections": true,
   "sideBar": true,
   "skip_h1_title": false,
   "title_cell": "Table of Contents",
   "title_sidebar": "Contents",
   "toc_cell": false,
   "toc_position": {},
   "toc_section_display": true,
   "toc_window_display": false
  }
 },
 "nbformat": 4,
 "nbformat_minor": 5
}
